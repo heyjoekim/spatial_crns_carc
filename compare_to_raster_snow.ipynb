{
 "cells": [
  {
   "cell_type": "code",
   "execution_count": 1,
   "id": "c5f9aa40-3130-4aa0-88ff-e24d190afb8c",
   "metadata": {},
   "outputs": [],
   "source": [
    "import numpy as np\n",
    "import pandas as pd\n",
    "import xarray as xr\n",
    "import matplotlib as mpl\n",
    "import matplotlib.pyplot as plt\n",
    "import matplotlib.dates as mdates\n",
    "import seaborn as sns\n",
    "import datetime as dt\n",
    "#--------\n",
    "# consts\n",
    "\n",
    "crnsLon, crnsLat = -109.955567, 47.059422"
   ]
  },
  {
   "cell_type": "code",
   "execution_count": 2,
   "id": "1b3d0ae6-5866-412b-af3a-737feae5cfaa",
   "metadata": {},
   "outputs": [],
   "source": [
    "snodas_j15 = xr.open_dataset('../data/snodas/snodas_2021-0115.nc')\n",
    "snodas_j21 = xr.open_dataset('../data/snodas/snodas_2021-0121.nc')\n",
    "snodas_j22 = xr.open_dataset('../data/snodas/snodas_2021-0122.nc')\n",
    "snodas_j29 = xr.open_dataset('../data/snodas/snodas_2021-0129.nc')\n",
    "snodas_f17 = xr.open_dataset('../data/snodas/snodas_2021-0217.nc')\n",
    "snodas_f18 = xr.open_dataset('../data/snodas/snodas_2021-0218.nc')\n",
    "snodas_f24 = xr.open_dataset('../data/snodas/snodas_2021-0224.nc')\n",
    "snodas_m04 = xr.open_dataset('../data/snodas/snodas_2021-0304.nc')"
   ]
  },
  {
   "cell_type": "code",
   "execution_count": 3,
   "id": "79d705ef-3b38-4e0c-99de-4dfa3a08f590",
   "metadata": {},
   "outputs": [],
   "source": [
    "snodas_sd_j15 = xr.open_dataset('../data/snodas/snodas_sd_2021-0115.nc')\n",
    "snodas_sd_j21 = xr.open_dataset('../data/snodas/snodas_sd_2021-0121.nc')\n",
    "snodas_sd_j22 = xr.open_dataset('../data/snodas/snodas_sd_2021-0122.nc')\n",
    "snodas_sd_j29 = xr.open_dataset('../data/snodas/snodas_sd_2021-0129.nc')\n",
    "snodas_sd_f17 = xr.open_dataset('../data/snodas/snodas_sd_2021-0217.nc')\n",
    "snodas_sd_f18 = xr.open_dataset('../data/snodas/snodas_sd_2021-0218.nc')\n",
    "snodas_sd_f24 = xr.open_dataset('../data/snodas/snodas_sd_2021-0224.nc')\n",
    "snodas_sd_m04 = xr.open_dataset('../data/snodas/snodas_sd_2021-0304.nc')"
   ]
  },
  {
   "cell_type": "code",
   "execution_count": 4,
   "id": "07ce3f49-11d3-447a-b555-0258dddcb64c",
   "metadata": {},
   "outputs": [],
   "source": [
    "# First, find the index of the grid point nearest a specific lat/lon.   \n",
    "abslat = np.abs(snodas_f17.lat-crnsLat)\n",
    "abslon = np.abs(snodas_f17.lon-crnsLon)\n",
    "c = np.maximum(abslon, abslat)\n",
    "\n",
    "([xloc], [yloc]) = np.where(c == np.min(c))\n",
    "# Now I can use that index location to get the values at the x/y diminsion\n",
    "\n",
    "carc_snodas_j15 = snodas_j15.isel(lon=xloc, lat=yloc)\n",
    "carc_snodas_j21 = snodas_j21.isel(lon=xloc, lat=yloc)\n",
    "carc_snodas_j22 = snodas_j22.isel(lon=xloc, lat=yloc)\n",
    "carc_snodas_j29 = snodas_j29.isel(lon=xloc, lat=yloc)\n",
    "carc_snodas_f17 = snodas_f17.isel(lon=xloc, lat=yloc)\n",
    "carc_snodas_f18 = snodas_f18.isel(lon=xloc, lat=yloc)\n",
    "carc_snodas_f24 = snodas_f24.isel(lon=xloc, lat=yloc)\n",
    "carc_snodas_m04 = snodas_m04.isel(lon=xloc, lat=yloc)\n",
    "\n",
    "carc_snodas_sd_j15 = snodas_sd_j15.isel(lon=xloc, lat=yloc)\n",
    "carc_snodas_sd_j21 = snodas_sd_j21.isel(lon=xloc, lat=yloc)\n",
    "carc_snodas_sd_j22 = snodas_sd_j22.isel(lon=xloc, lat=yloc)\n",
    "carc_snodas_sd_j29 = snodas_sd_j29.isel(lon=xloc, lat=yloc)\n",
    "carc_snodas_sd_f17 = snodas_sd_f17.isel(lon=xloc, lat=yloc)\n",
    "carc_snodas_sd_f18 = snodas_sd_f18.isel(lon=xloc, lat=yloc)\n",
    "carc_snodas_sd_f24 = snodas_sd_f24.isel(lon=xloc, lat=yloc)\n",
    "carc_snodas_sd_m04 = snodas_sd_m04.isel(lon=xloc, lat=yloc)"
   ]
  },
  {
   "cell_type": "code",
   "execution_count": 5,
   "id": "337e9456-40ab-4979-ae2e-b4e4c5d31d31",
   "metadata": {},
   "outputs": [],
   "source": [
    "ucla_swe = xr.open_dataset('../data/wus_ucla_sr/WUS_UCLA_SR_v01_N47_0W110_0_agg_16_WY2020_21_SWE_SCA_POST.nc')\n",
    "ucla_depth = xr.open_dataset('../data/wus_ucla_sr/WUS_UCLA_SR_v01_N47_0W110_0_agg_16_WY2020_21_SD_POST.nc')"
   ]
  },
  {
   "cell_type": "code",
   "execution_count": 6,
   "id": "7629e7c3-28f9-4bfa-8b97-ff7a60314c8e",
   "metadata": {},
   "outputs": [],
   "source": [
    "# First, find the index of the grid point nearest a specific lat/lon.   \n",
    "abslat = np.abs(ucla_swe.Latitude-crnsLat)\n",
    "abslon = np.abs(ucla_swe.Longitude-crnsLon)\n",
    "c = np.maximum(abslon, abslat)\n",
    "\n",
    "([xloc], [yloc]) = np.where(c == np.min(c))\n",
    "\n",
    "\n",
    "# Now I can use that index location to get the values at the x/y diminsion\n",
    "carc_wus = ucla_swe.isel(Longitude=slice(xloc, xloc+2), Latitude=slice(yloc-1,yloc+1))"
   ]
  },
  {
   "cell_type": "code",
   "execution_count": 7,
   "id": "070c7854-3816-4f3c-bb9b-ff485db6aa23",
   "metadata": {},
   "outputs": [],
   "source": [
    "carc_depths = ucla_depth.isel(Longitude=slice(xloc, xloc+2), Latitude=slice(yloc-1,yloc+1))"
   ]
  },
  {
   "cell_type": "code",
   "execution_count": 8,
   "id": "8784f506-f47c-4fc8-b673-ffbdd2b4fd5e",
   "metadata": {},
   "outputs": [],
   "source": [
    "ua_4km_swe = xr.open_dataset('../data/ua_4km_swe/4km_SWE_Depth_WY2021_v01.nc')"
   ]
  },
  {
   "cell_type": "code",
   "execution_count": 9,
   "id": "a7cb4b5e-450d-42da-a809-2ce4cea56f60",
   "metadata": {},
   "outputs": [],
   "source": [
    "# 112 - j21\n",
    "# 113 - j22\n",
    "# 120 - j29\n",
    "# 139 - f17\n",
    "# 140 - f18\n",
    "# 146 - f24\n",
    "# 154 - m04"
   ]
  },
  {
   "cell_type": "code",
   "execution_count": 10,
   "id": "4f40e677-a965-4129-a724-16d851be5f4a",
   "metadata": {},
   "outputs": [],
   "source": [
    "# First, find the index of the grid point nearest a specific lat/lon.   \n",
    "abslat = np.abs(ua_4km_swe.lat-crnsLat)\n",
    "abslon = np.abs(ua_4km_swe.lon-crnsLon)\n",
    "c = np.maximum(abslon, abslat)\n",
    "\n",
    "([xloc], [yloc]) = np.where(c == np.min(c))\n",
    "# Now I can use that index location to get the values at the x/y diminsion\n",
    "carc_u4k = ua_4km_swe.isel(lon=xloc, lat=yloc)"
   ]
  },
  {
   "cell_type": "code",
   "execution_count": 11,
   "id": "23850498-b33f-4467-b31b-d51cedfc761e",
   "metadata": {},
   "outputs": [],
   "source": [
    "sd1 = carc_depths.mean(dim=[\"Longitude\", \"Latitude\"]).isel(Stats=0).to_pandas()\n",
    "sd2 = carc_u4k.DEPTH.to_pandas()"
   ]
  },
  {
   "cell_type": "code",
   "execution_count": 12,
   "id": "c5d6e17f-137e-4519-9a6d-60a902202e4e",
   "metadata": {},
   "outputs": [],
   "source": [
    "sd2 = sd2.reset_index()\n",
    "sd2.index.name = 'Day'"
   ]
  },
  {
   "cell_type": "code",
   "execution_count": 13,
   "id": "b79619c7-1514-4b67-94e5-0cbe0ad259a4",
   "metadata": {},
   "outputs": [],
   "source": [
    "sd2.columns = ['Time', 'SD UA [mm]']"
   ]
  },
  {
   "cell_type": "code",
   "execution_count": 14,
   "id": "c5ef2c4e-25bc-496b-b4c1-dfd45240fdcf",
   "metadata": {},
   "outputs": [],
   "source": [
    "sds = sd2.join(sd1)"
   ]
  },
  {
   "cell_type": "code",
   "execution_count": 15,
   "id": "fe134958-365b-4ee1-9596-8926dfd37736",
   "metadata": {},
   "outputs": [],
   "source": [
    "sds['SD UA [m]'] = sds['SD UA [mm]']/1000"
   ]
  },
  {
   "cell_type": "code",
   "execution_count": 16,
   "id": "3948bb4d-0667-42b6-b434-3ff57811dd60",
   "metadata": {},
   "outputs": [],
   "source": [
    "sds = sds.reset_index()\n",
    "sds = sds.set_index('Time')"
   ]
  },
  {
   "cell_type": "code",
   "execution_count": 17,
   "id": "88b25ef8-4948-4cc7-95cf-88ccdd6833c5",
   "metadata": {},
   "outputs": [],
   "source": [
    "sds['SD UA [cm]'] = sds['SD UA [mm]']/10\n",
    "sds['SD_Post [cm]'] = sds['SD_Post']*100"
   ]
  },
  {
   "cell_type": "code",
   "execution_count": 18,
   "id": "fe64fbc1-4539-4df9-9d93-ffef23178914",
   "metadata": {},
   "outputs": [],
   "source": [
    "# w_sds = pd.read_csv('../w_sd.csv')"
   ]
  },
  {
   "cell_type": "code",
   "execution_count": 19,
   "id": "d38b0f14-93d8-4378-9a6c-314bab6e8503",
   "metadata": {},
   "outputs": [],
   "source": [
    "# w_sds = w_sds.drop(['Unnamed: 0'], axis=1)"
   ]
  },
  {
   "cell_type": "code",
   "execution_count": 20,
   "id": "f5645c03-d717-48d7-bb08-f20260e58f0e",
   "metadata": {},
   "outputs": [],
   "source": [
    "# w_sds = w_sds*100\n",
    "# w_sds.melt()"
   ]
  },
  {
   "cell_type": "code",
   "execution_count": 21,
   "id": "c2906c85-a25b-4864-9bc5-cac59487a26d",
   "metadata": {},
   "outputs": [],
   "source": [
    "years = np.repeat(2021, 8)\n",
    "months = np.array([1,1,1,1,2,2,2,3])\n",
    "days = np.array([15, 21, 22, 29, 17, 18, 24, 4])\n",
    "\n",
    "all_dates = [dt.datetime(years[i], months[i], days[i]) for i in range(8)]\n",
    "dates_no_j15 = all_dates[1:]"
   ]
  },
  {
   "cell_type": "code",
   "execution_count": 22,
   "id": "f0f29444-6ca9-4c76-842f-7b205fe004c6",
   "metadata": {},
   "outputs": [],
   "source": [
    "uw_sd = pd.DataFrame(\n",
    "    {'Date': all_dates,\n",
    "     'carc_dowy':[106, 112, 113, 120, 139, 140, 146, 154],\n",
    "     'sd [m]':[0.0009416359999999998,0.016401694000000005,0.0197357636,0.008898735999999999,0.0787415496,0.075809294,0.021657748399999996,0.0130767216],\n",
    "     'sd std [m]':[0.015382485548294984,\n",
    "                   0.03805179432261196,\n",
    "                   0.03727467892557782,\n",
    "                   0.03188966838840291,\n",
    "                   0.07599655069929648,\n",
    "                   0.0763905110765831,\n",
    "                   0.06071239652428734,\n",
    "                   0.04000171659561741]})"
   ]
  },
  {
   "cell_type": "code",
   "execution_count": 23,
   "id": "adb0e814-983a-421d-aa16-326b8da99c76",
   "metadata": {},
   "outputs": [],
   "source": [
    "uw_sd['sd [cm]'] = uw_sd['sd [m]']*100\n",
    "uw_sd['sd std [cm]'] = uw_sd['sd std [m]']*100"
   ]
  },
  {
   "cell_type": "code",
   "execution_count": 24,
   "id": "c4bc581b-f161-44ce-a1ce-d3547e647eb7",
   "metadata": {},
   "outputs": [],
   "source": [
    "swe1 = carc_wus.mean(dim=[\"Longitude\", \"Latitude\"]).isel(Stats=0).to_pandas()\n",
    "swe2 = carc_u4k.SWE.to_pandas()"
   ]
  },
  {
   "cell_type": "code",
   "execution_count": 25,
   "id": "22ad2376-dec6-4014-95c3-e546487eb884",
   "metadata": {},
   "outputs": [],
   "source": [
    "swe1['SWE ucla [mm]'] = swe1['SWE_Post']*1000"
   ]
  },
  {
   "cell_type": "code",
   "execution_count": 26,
   "id": "836588f7-5ec2-46f7-ae66-113cb408ac5d",
   "metadata": {},
   "outputs": [],
   "source": [
    "swe2 = swe2.reset_index()\n",
    "swe2.index.name = 'Day'"
   ]
  },
  {
   "cell_type": "code",
   "execution_count": 27,
   "id": "dd1dff34-3adb-4d53-b814-84ea13e918a1",
   "metadata": {},
   "outputs": [],
   "source": [
    "swe2.columns = ['time', 'SWE UA [mm]']"
   ]
  },
  {
   "cell_type": "code",
   "execution_count": 28,
   "id": "e2fc75ce-35b9-4569-b92f-c4bbb99c0d59",
   "metadata": {},
   "outputs": [],
   "source": [
    "swes = swe2.join(swe1)"
   ]
  },
  {
   "cell_type": "code",
   "execution_count": 29,
   "id": "9fdea8bb-8f02-4fa0-b208-8a163b31633e",
   "metadata": {},
   "outputs": [],
   "source": [
    "carc_avg_swe_cm = [0.530504098566071, 0.637230009292796,0.327047373752602,1.09127963950704,1.05802546834056,0.755550068249541,0.572121540796448]\n",
    "carc_dowy = [112, 113, 120, 139, 140, 146, 154]\n",
    "carc_dowy2 = [106, 112, 113, 120, 139, 140, 146, 154]"
   ]
  },
  {
   "cell_type": "code",
   "execution_count": 30,
   "id": "4b1721d2-61da-47da-85f3-856eab847d78",
   "metadata": {},
   "outputs": [],
   "source": [
    "carc_lidar_swe = pd.DataFrame({\n",
    "    'Date':dates_no_j15,\n",
    "    'SWE [cm]': carc_avg_swe_cm\n",
    "})"
   ]
  },
  {
   "cell_type": "code",
   "execution_count": 31,
   "id": "ed2470e3-877c-4e87-bda5-ee05ba80c262",
   "metadata": {},
   "outputs": [],
   "source": [
    "carc_lidar_swe['SWE [mm]'] = carc_lidar_swe['SWE [cm]']*10"
   ]
  },
  {
   "cell_type": "code",
   "execution_count": 32,
   "id": "eb4e90d3-540c-4552-ad06-26d7b95da458",
   "metadata": {},
   "outputs": [],
   "source": [
    "snodas_swe = [int(carc_snodas_j15.Band1.values),\n",
    "              int(carc_snodas_j21.Band1.values),\n",
    "              int(carc_snodas_j22.Band1.values),\n",
    "              int(carc_snodas_j29.Band1.values),\n",
    "              int(carc_snodas_f17.Band1.values),\n",
    "              int(carc_snodas_f18.Band1.values),\n",
    "              int(carc_snodas_f24.Band1.values),\n",
    "              int(carc_snodas_m04.Band1.values)]"
   ]
  },
  {
   "cell_type": "code",
   "execution_count": 33,
   "id": "7f85fa09-ff57-4a7c-969a-b2dd147c7bfe",
   "metadata": {},
   "outputs": [],
   "source": [
    "snodas_sd = [int(carc_snodas_sd_j15.Band1.values),\n",
    "              int(carc_snodas_sd_j21.Band1.values),\n",
    "              int(carc_snodas_sd_j22.Band1.values),\n",
    "              int(carc_snodas_sd_j29.Band1.values),\n",
    "              int(carc_snodas_sd_f17.Band1.values),\n",
    "              int(carc_snodas_sd_f18.Band1.values),\n",
    "              int(carc_snodas_sd_f24.Band1.values),\n",
    "              int(carc_snodas_sd_m04.Band1.values)]"
   ]
  },
  {
   "cell_type": "code",
   "execution_count": 34,
   "id": "22713dae-351c-4df0-86ba-c59647a98ab0",
   "metadata": {},
   "outputs": [],
   "source": [
    "# ncdf_boxplot = pd.read_csv('./data/plotting/ncdf_boxplot.csv')\n",
    "ncdf_boxplot = pd.read_csv('./data/plotting/revised_swe_fig9.csv', parse_dates=['dates'])\n",
    "ncdf_boxplot['swe j15 [mm]'] = ncdf_boxplot['swe j15 [cm]']*10\n",
    "ncdf_boxplot['swe bare [mm]'] = ncdf_boxplot['swe bare [cm]']*10"
   ]
  },
  {
   "cell_type": "code",
   "execution_count": 35,
   "id": "82b17903-336d-49fc-af82-0157eb96592f",
   "metadata": {},
   "outputs": [],
   "source": [
    "# ncdf_boxplot.boxplot(column='swe bare [mm]', by='dates', positions=mpl.dates.date2num(all_dates),\n",
    "#                      zorder=1, patch_artist=True,\n",
    "#                      grid=False,\n",
    "#                      boxprops={'facecolor':'grey'},\n",
    "#                      whiskerprops={'color':'grey'},\n",
    "#                      flierprops={'marker':'+', 'markersize':5, 'color':'grey'},\n",
    "#                      medianprops={'color':'white'}, showcaps=False, label='Modeled SWE (This Study)')"
   ]
  },
  {
   "cell_type": "code",
   "execution_count": 36,
   "id": "6a60f3d7-298f-4931-8f6b-adae8d088815",
   "metadata": {},
   "outputs": [],
   "source": [
    "# swes_plot = pd.read_csv('./data/plotting/swes_long.csv')\n",
    "# swes_plot"
   ]
  },
  {
   "cell_type": "code",
   "execution_count": 37,
   "id": "21e32db0-e09b-4479-b8ff-66e6ceb5064a",
   "metadata": {},
   "outputs": [],
   "source": [
    "crns = pd.read_csv('./data/plotting/crns_daily_swe_adjusted.csv', parse_dates=['UTC'])"
   ]
  },
  {
   "cell_type": "code",
   "execution_count": 38,
   "id": "55e631f8-eb0f-4f8b-bda9-30470aaa40d5",
   "metadata": {},
   "outputs": [
    {
     "data": {
      "text/html": [
       "<div>\n",
       "<style scoped>\n",
       "    .dataframe tbody tr th:only-of-type {\n",
       "        vertical-align: middle;\n",
       "    }\n",
       "\n",
       "    .dataframe tbody tr th {\n",
       "        vertical-align: top;\n",
       "    }\n",
       "\n",
       "    .dataframe thead th {\n",
       "        text-align: right;\n",
       "    }\n",
       "</style>\n",
       "<table border=\"1\" class=\"dataframe\">\n",
       "  <thead>\n",
       "    <tr style=\"text-align: right;\">\n",
       "      <th></th>\n",
       "      <th>UTC</th>\n",
       "      <th>N</th>\n",
       "      <th>swe_ms</th>\n",
       "    </tr>\n",
       "  </thead>\n",
       "  <tbody>\n",
       "    <tr>\n",
       "      <th>0</th>\n",
       "      <td>2020-11-22</td>\n",
       "      <td>4877.227178</td>\n",
       "      <td>0.041495</td>\n",
       "    </tr>\n",
       "    <tr>\n",
       "      <th>1</th>\n",
       "      <td>2020-11-23</td>\n",
       "      <td>4984.055284</td>\n",
       "      <td>-0.118404</td>\n",
       "    </tr>\n",
       "    <tr>\n",
       "      <th>2</th>\n",
       "      <td>2020-11-24</td>\n",
       "      <td>4870.841159</td>\n",
       "      <td>0.052172</td>\n",
       "    </tr>\n",
       "    <tr>\n",
       "      <th>3</th>\n",
       "      <td>2020-11-25</td>\n",
       "      <td>4897.992997</td>\n",
       "      <td>0.010586</td>\n",
       "    </tr>\n",
       "    <tr>\n",
       "      <th>4</th>\n",
       "      <td>2020-11-26</td>\n",
       "      <td>4919.156845</td>\n",
       "      <td>-0.020958</td>\n",
       "    </tr>\n",
       "    <tr>\n",
       "      <th>...</th>\n",
       "      <td>...</td>\n",
       "      <td>...</td>\n",
       "      <td>...</td>\n",
       "    </tr>\n",
       "    <tr>\n",
       "      <th>187</th>\n",
       "      <td>2021-05-28</td>\n",
       "      <td>4647.269402</td>\n",
       "      <td>0.409759</td>\n",
       "    </tr>\n",
       "    <tr>\n",
       "      <th>188</th>\n",
       "      <td>2021-05-29</td>\n",
       "      <td>4842.180599</td>\n",
       "      <td>0.096152</td>\n",
       "    </tr>\n",
       "    <tr>\n",
       "      <th>189</th>\n",
       "      <td>2021-05-30</td>\n",
       "      <td>4850.783211</td>\n",
       "      <td>0.083744</td>\n",
       "    </tr>\n",
       "    <tr>\n",
       "      <th>190</th>\n",
       "      <td>2021-05-31</td>\n",
       "      <td>4898.414221</td>\n",
       "      <td>0.010051</td>\n",
       "    </tr>\n",
       "    <tr>\n",
       "      <th>191</th>\n",
       "      <td>2021-06-01</td>\n",
       "      <td>4871.924429</td>\n",
       "      <td>0.050328</td>\n",
       "    </tr>\n",
       "  </tbody>\n",
       "</table>\n",
       "<p>192 rows × 3 columns</p>\n",
       "</div>"
      ],
      "text/plain": [
       "           UTC            N    swe_ms\n",
       "0   2020-11-22  4877.227178  0.041495\n",
       "1   2020-11-23  4984.055284 -0.118404\n",
       "2   2020-11-24  4870.841159  0.052172\n",
       "3   2020-11-25  4897.992997  0.010586\n",
       "4   2020-11-26  4919.156845 -0.020958\n",
       "..         ...          ...       ...\n",
       "187 2021-05-28  4647.269402  0.409759\n",
       "188 2021-05-29  4842.180599  0.096152\n",
       "189 2021-05-30  4850.783211  0.083744\n",
       "190 2021-05-31  4898.414221  0.010051\n",
       "191 2021-06-01  4871.924429  0.050328\n",
       "\n",
       "[192 rows x 3 columns]"
      ]
     },
     "execution_count": 38,
     "metadata": {},
     "output_type": "execute_result"
    }
   ],
   "source": [
    "crns"
   ]
  },
  {
   "cell_type": "code",
   "execution_count": 39,
   "id": "590de1b1-774c-4494-818e-8baea3c28dec",
   "metadata": {},
   "outputs": [],
   "source": [
    "crns['dowy'] = np.abs((pd.to_datetime('2020-10-01') - crns['UTC']).dt.days)"
   ]
  },
  {
   "cell_type": "code",
   "execution_count": 40,
   "id": "c1298a81-e312-48c3-8eb1-0d713a4ad1ec",
   "metadata": {},
   "outputs": [],
   "source": [
    "crns['swe [mm]'] = crns['swe_ms']*10"
   ]
  },
  {
   "cell_type": "code",
   "execution_count": 41,
   "id": "7d2320a6-8971-471c-bf2d-8b3010db4d45",
   "metadata": {},
   "outputs": [
    {
     "name": "stderr",
     "output_type": "stream",
     "text": [
      "/var/folders/33/s6sv9bl94b5gdyb7kzhmyjlr0000gq/T/ipykernel_62991/428215491.py:1: FutureWarning: The behavior of 'isin' with dtype=datetime64[ns] and castable values (e.g. strings) is deprecated. In a future version, these will not be considered matching by isin. Explicitly cast to the appropriate dtype before calling isin instead.\n",
      "  crns_data = crns[crns['UTC'].isin(['2021-01-21',\n"
     ]
    }
   ],
   "source": [
    "crns_data = crns[crns['UTC'].isin(['2021-01-21',\n",
    "                       '2021-01-22',\n",
    "                       '2021-01-29',\n",
    "                       '2021-02-17',\n",
    "                       '2021-02-18',\n",
    "                       '2021-02-24',\n",
    "                       '2021-03-04'])]"
   ]
  },
  {
   "cell_type": "code",
   "execution_count": 42,
   "id": "9fac4927-38c9-4f2d-9960-cd3d82ac85ae",
   "metadata": {},
   "outputs": [
    {
     "name": "stderr",
     "output_type": "stream",
     "text": [
      "/var/folders/33/s6sv9bl94b5gdyb7kzhmyjlr0000gq/T/ipykernel_62991/1581208926.py:1: SettingWithCopyWarning: \n",
      "A value is trying to be set on a copy of a slice from a DataFrame.\n",
      "Try using .loc[row_indexer,col_indexer] = value instead\n",
      "\n",
      "See the caveats in the documentation: https://pandas.pydata.org/pandas-docs/stable/user_guide/indexing.html#returning-a-view-versus-a-copy\n",
      "  crns_data['SWE [mm]'] = crns_data['swe_ms']*10\n"
     ]
    }
   ],
   "source": [
    "crns_data['SWE [mm]'] = crns_data['swe_ms']*10"
   ]
  },
  {
   "cell_type": "code",
   "execution_count": 43,
   "id": "0388091b-c14f-4e55-91e1-4c43d4bcff22",
   "metadata": {},
   "outputs": [],
   "source": [
    "# crns_data['dowy'] = [112, 113, 120, 139, 140, 146, 154]"
   ]
  },
  {
   "cell_type": "code",
   "execution_count": 44,
   "id": "317829a3-176a-4e6d-94c2-94a953f009f9",
   "metadata": {},
   "outputs": [
    {
     "data": {
      "image/png": "[encoded data removed]",
      "text/plain": [
       "<Figure size 1000x700 with 2 Axes>"
      ]
     },
     "metadata": {},
     "output_type": "display_data"
    }
   ],
   "source": [
    "#- Figure 9 code\n",
    "fig = plt.figure(figsize=(10,7))\n",
    "\n",
    "gs = fig.add_gridspec(2,1)\n",
    "ax1 = fig.add_subplot(gs[0])\n",
    "ax2 = fig.add_subplot(gs[1])\n",
    "\n",
    "dr = pd.date_range(start=dt.datetime(2021,1,9),\n",
    "                   end=dt.datetime(2021,3,10))\n",
    "\n",
    "ncdf_boxplot.boxplot(ax=ax1, column='swe bare [mm]', by='dates', positions=mpl.dates.date2num(all_dates),\n",
    "                     zorder=1, patch_artist=True,\n",
    "                     grid=False,\n",
    "                     boxprops={'facecolor':'grey'},\n",
    "                     whiskerprops={'color':'grey'},\n",
    "                     flierprops={'marker':'+', 'markersize':5, 'color':'grey'},\n",
    "                     medianprops={'color':'white'}, showcaps=False, label='Modeled SWE (This Study)')\n",
    "crns.plot(ax=ax1, x='UTC', y='swe [mm]', color='tab:green', label='CRNS (Woodley et al., 2024)')\n",
    "carc_lidar_swe.plot.scatter(ax=ax1, x='Date', y='SWE [mm]', marker='s',\n",
    "                            s=30, color='red', zorder=2, edgecolor='k', label='CARC Avg. (lidar)')\n",
    "swes.plot(ax=ax1, x='time', y='SWE ucla [mm]', zorder=1, label='UCLA-re', color='tab:blue')\n",
    "swes.plot(ax=ax1, x='time', y='SWE UA [mm]', zorder=1, label='UA 4km', color='tab:orange')\n",
    "ax1.plot(all_dates, snodas_swe, 'b^', label='SNODAS')\n",
    "ax1.axis([dt.datetime(2021,1,9),dt.datetime(2021,3,10),-0.2,27])\n",
    "ax1.legend(loc='upper left')\n",
    "\n",
    "ax1.set_title('')\n",
    "ax1.set_title('(a) SWE Comparisons', loc='left')\n",
    "fig.suptitle('')\n",
    "ax2.plot(uw_sd['Date'], uw_sd['sd [cm]'], 'rs', markeredgecolor='k', markersize=6, label='CARC Avg. (lidar)', zorder=4)\n",
    "sds.plot(ax=ax2, y='SD_Post [cm]', zorder=2, label='UCLA-re', color='tab:blue')\n",
    "sds.plot(ax=ax2, y='SD UA [cm]', zorder=2, label='UA 4km', color='tab:orange')\n",
    "ax2.plot(all_dates, [x/10 for x in snodas_sd], 'b^', label='SNODAS')\n",
    "\n",
    "ax2.axis([dt.datetime(2021,1,9),dt.datetime(2021,3,10),-0.2,18])\n",
    "ax2.set_xticks(mpl.dates.date2num(dr), dr, rotation=0, ha='center')\n",
    "# ax2.grid(False)\n",
    "ax2.legend(loc='upper left')\n",
    "# ax2.set_xlabel('D')\n",
    "ax2.set_ylabel('SD [cm]')\n",
    "ax2.set_title('(b) Snow Depth Comparisons', loc='left')\n",
    "fig.suptitle('')\n",
    "\n",
    "locator1 = mdates.DayLocator(interval=2)\n",
    "locator2 = mdates.DayLocator(interval=10)\n",
    "formatter2 = mdates.DateFormatter(\"%b %d\")\n",
    "blank_format = mdates.DateFormatter(\"\")\n",
    "\n",
    "ax1.set_xticks(mpl.dates.date2num(dr), dr, rotation=0, ha='center')\n",
    "ax1.xaxis.set_major_locator(locator2)\n",
    "ax2.xaxis.set_major_locator(locator2)\n",
    "ax1.xaxis.set_minor_locator(locator1)\n",
    "ax2.xaxis.set_minor_locator(locator1)\n",
    "\n",
    "ax1.xaxis.set_major_formatter(formatter2)\n",
    "ax2.xaxis.set_major_formatter(formatter2)\n",
    "ax1.xaxis.set_minor_formatter(blank_format)\n",
    "ax2.xaxis.set_minor_formatter(blank_format)\n",
    "\n",
    "ax1.set_xlabel('')\n",
    "ax2.set_xlabel('')\n",
    "\n",
    "plt.tight_layout()\n",
    "# plt.savefig('../figs/to_publish/f08.png', bbox_inches='tight', facecolor='w', dpi=300)\n",
    "# plt.savefig('../figs/to_publish/f08.pdf', bbox_inches='tight', facecolor='w', dpi=300)"
   ]
  },
  {
   "cell_type": "code",
   "execution_count": null,
   "id": "146e650a-27ef-493f-bc49-5eca56e65b6d",
   "metadata": {},
   "outputs": [],
   "source": []
  }
 ],
 "metadata": {
  "kernelspec": {
   "display_name": "Python 3 (ipykernel)",
   "language": "python",
   "name": "python3"
  },
  "language_info": {
   "codemirror_mode": {
    "name": "ipython",
    "version": 3
   },
   "file_extension": ".py",
   "mimetype": "text/x-python",
   "name": "python",
   "nbconvert_exporter": "python",
   "pygments_lexer": "ipython3",
   "version": "3.9.18"
  }
 },
 "nbformat": 4,
 "nbformat_minor": 5
}
